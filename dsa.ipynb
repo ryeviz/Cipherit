{
  "nbformat": 4,
  "nbformat_minor": 0,
  "metadata": {
    "colab": {
      "provenance": [],
      "authorship_tag": "ABX9TyNOOTY/lXfZ82X8ELaNEJ7n",
      "include_colab_link": true
    },
    "kernelspec": {
      "name": "python3",
      "display_name": "Python 3"
    },
    "language_info": {
      "name": "python"
    }
  },
  "cells": [
    {
      "cell_type": "markdown",
      "metadata": {
        "id": "view-in-github",
        "colab_type": "text"
      },
      "source": [
        "<a href=\"https://colab.research.google.com/github/ryeviz/Cipherit/blob/main/dsa.ipynb\" target=\"_parent\"><img src=\"https://colab.research.google.com/assets/colab-badge.svg\" alt=\"Open In Colab\"/></a>"
      ]
    },
    {
      "cell_type": "code",
      "execution_count": null,
      "metadata": {
        "colab": {
          "base_uri": "https://localhost:8080/"
        },
        "id": "G9uHsQ53Kixf",
        "outputId": "49a88895-5601-436b-c489-8bac00818df8"
      },
      "outputs": [
        {
          "output_type": "stream",
          "name": "stdout",
          "text": [
            "Lowest value: 4\n"
          ]
        }
      ],
      "source": [
        "# Finding the lowest value in an array\n",
        "my_array = [7, 12, 9, 4, 11]\n",
        "minVal = my_array[0]\n",
        "for i in my_array:\n",
        "  if i < minVal:\n",
        "    minVal = i\n",
        "print('Lowest value:', minVal)"
      ]
    },
    {
      "cell_type": "code",
      "source": [
        "# Bubble Sort Implementation\n",
        "my_array = [64, 34, 25, 12, 22, 11, 90, 5]\n",
        "n = len(my_array)\n",
        "for i in range(n-1):\n",
        "  for j in range(n-i-1):\n",
        "    if my_array[j] > my_array[j+1]:\n",
        "      my_array[j], my_array[j+1] = my_array[j+1], my_array[j]\n",
        "print(\"Sorted array:\", my_array)"
      ],
      "metadata": {
        "id": "6k7uA5ztN6C3",
        "colab": {
          "base_uri": "https://localhost:8080/"
        },
        "outputId": "b1aba4e4-c9d0-4468-c545-f3e5ce29de91"
      },
      "execution_count": null,
      "outputs": [
        {
          "output_type": "stream",
          "name": "stdout",
          "text": [
            "Sorted array: [5, 11, 12, 22, 25, 34, 64, 90]\n"
          ]
        }
      ]
    },
    {
      "cell_type": "code",
      "source": [
        "# Python program to reverse a linked list\n",
        "class Node:\n",
        "\n",
        "    # Constructor to initialize the node object\n",
        "    def __init__(self, data):\n",
        "        self.data = data\n",
        "        self.next = None\n",
        "\n",
        "class LinkedList:\n",
        "\n",
        "    # Function to initialize head\n",
        "    def __init__(self):\n",
        "        self.head = None\n",
        "\n",
        "    # Function to reverse the linked list\n",
        "    def reverse(self):\n",
        "        prev = None\n",
        "        current = self.head\n",
        "        while(current is not None):\n",
        "            next = current.next\n",
        "            current.next = prev\n",
        "            prev = current\n",
        "            current = next\n",
        "        self.head = prev\n",
        "\n",
        "    # Function to insert a new node at the beginning\n",
        "    def push(self, new_data):\n",
        "        new_node = Node(new_data)\n",
        "        new_node.next = self.head\n",
        "        self.head = new_node\n",
        "\n",
        "    # Utility function to print the LinkedList\n",
        "    def printList(self):\n",
        "        temp = self.head\n",
        "        while(temp):\n",
        "            print (temp.data,end=\" \")\n",
        "            temp = temp.next\n",
        "\n",
        "# Driver program to test above functions\n",
        "llist = LinkedList()\n",
        "llist.push(20)\n",
        "llist.push(4)\n",
        "llist.push(15)\n",
        "llist.push(85)\n",
        "\n",
        "print (\"Given Linked List\")\n",
        "llist.printList()\n",
        "llist.reverse()\n",
        "print (\"\\nReversed Linked List\")\n",
        "llist.printList()"
      ],
      "metadata": {
        "id": "maqWF16TWTct",
        "outputId": "f68651d6-bc4b-4885-a690-468ed3ef96da",
        "colab": {
          "base_uri": "https://localhost:8080/"
        }
      },
      "execution_count": 2,
      "outputs": [
        {
          "output_type": "stream",
          "name": "stdout",
          "text": [
            "Given Linked List\n",
            "85 15 4 20 \n",
            "Reversed Linked List\n",
            "20 4 15 85 "
          ]
        }
      ]
    },
    {
      "cell_type": "code",
      "source": [
        "#Climbing Stairs\n",
        "class Solution(object):\n",
        "    def climbStairs(self, n):\n",
        "        if n == 1:\n",
        "            return 1\n",
        "        if n == 2:\n",
        "            return 2\n",
        "        return self.climbStairs(n - 1) + self.climbStairs(n - 2)\n",
        "num_stairs = 3\n",
        "solution = Solution()\n",
        "print(solution.climbStairs(num_stairs))"
      ],
      "metadata": {
        "id": "i96Boou8kKQ6",
        "colab": {
          "base_uri": "https://localhost:8080/"
        },
        "outputId": "be6e7041-47d3-4e84-b4e2-b66e99b4a8f7"
      },
      "execution_count": null,
      "outputs": [
        {
          "output_type": "stream",
          "name": "stdout",
          "text": [
            "3\n"
          ]
        }
      ]
    },
    {
      "cell_type": "code",
      "source": [
        "#program for linked list implementation of stack\n",
        "\n",
        "class StackNode:\n",
        "\n",
        "\n",
        "    def __init__(self, data):\n",
        "        self.data = data\n",
        "        self.next = None\n",
        "class Stack:\n",
        "\n",
        "    def __init__(self):\n",
        "        self.root = None\n",
        "\n",
        "    def isEmpty(self):\n",
        "        return True if self.root is None else False\n",
        "\n",
        "    def push(self, data):\n",
        "        newNode = StackNode(data)\n",
        "        newNode.next = self.root\n",
        "        self.root = newNode\n",
        "        print (\"% d pushed to stack\" % (data))\n",
        "\n",
        "    def pop(self):\n",
        "        if (self.isEmpty()):\n",
        "            return float(\"-inf\")\n",
        "        temp = self.root\n",
        "        self.root = self.root.next\n",
        "        popped = temp.data\n",
        "        return popped\n",
        "\n",
        "    def peek(self):\n",
        "        if self.isEmpty():\n",
        "            return float(\"-inf\")\n",
        "        return self.root.data\n",
        "\n",
        "# Driver code\n",
        "stack = Stack()\n",
        "stack.push(10)\n",
        "stack.push(20)\n",
        "stack.push(30)\n",
        "\n",
        "print (\"% d popped from stack\" % (stack.pop()))\n",
        "print (\"Top element is % d \" % (stack.peek()))"
      ],
      "metadata": {
        "colab": {
          "base_uri": "https://localhost:8080/"
        },
        "id": "fNhw8r_os1B1",
        "outputId": "25b118b3-d125-4b67-b0e6-96512f586783"
      },
      "execution_count": null,
      "outputs": [
        {
          "output_type": "stream",
          "name": "stdout",
          "text": [
            " 10 pushed to stack\n",
            " 20 pushed to stack\n",
            " 30 pushed to stack\n",
            " 30 popped from stack\n",
            "Top element is  20 \n"
          ]
        }
      ]
    },
    {
      "cell_type": "code",
      "source": [
        "#Python program to reverse a stack\n",
        "class Stack:\n",
        "    def __init__(self):\n",
        "        self.items = []\n",
        "\n",
        "    def push(self, value):\n",
        "        self.items.append(value)\n",
        "\n",
        "    def pop(self):\n",
        "        if self.is_empty():\n",
        "            raise IndexError(\"Stack is empty\")  # Handle empty stack pop\n",
        "        return self.items.pop()\n",
        "\n",
        "    def is_empty(self):\n",
        "        return len(self.items) == 0\n",
        "\n",
        "    def show(self):\n",
        "        for value in reversed(self.items):\n",
        "            print(value)\n",
        "\n",
        "def reverse_stack(s):\n",
        "    if s.is_empty():\n",
        "        return\n",
        "\n",
        "    temp_stack = Stack()\n",
        "    while not s.is_empty():\n",
        "        temp_stack.push(s.pop())\n",
        "\n",
        "    while not temp_stack.is_empty():\n",
        "        s.push(temp_stack.pop())  # Corrected: use pop() from temp_stack\n",
        "\n",
        "# Create object of stack class\n",
        "stk = Stack()\n",
        "\n",
        "stk.push(1)\n",
        "stk.push(2)\n",
        "stk.push(3)\n",
        "stk.push(4)\n",
        "stk.push(5)\n",
        "\n",
        "print(\"Original Stack\")\n",
        "stk.show()\n",
        "\n",
        "print(\"\\nStack after Reversing\")\n",
        "reverse_stack(stk)\n",
        "stk.show()\n"
      ],
      "metadata": {
        "colab": {
          "base_uri": "https://localhost:8080/"
        },
        "id": "Qs-TpdWSH5EZ",
        "outputId": "113d7720-fb42-43fc-94b5-107f817449a5"
      },
      "execution_count": null,
      "outputs": [
        {
          "output_type": "stream",
          "name": "stdout",
          "text": [
            "Original Stack\n",
            "5\n",
            "4\n",
            "3\n",
            "2\n",
            "1\n",
            "\n",
            "Stack after Reversing\n",
            "5\n",
            "4\n",
            "3\n",
            "2\n",
            "1\n"
          ]
        }
      ]
    },
    {
      "cell_type": "code",
      "source": [
        "#Find Missing in Array\n",
        "def find_missing_element(arr, n):\n",
        "  x1 = 0\n",
        "  for i in range(1, n + 1):\n",
        "    x1 ^= i\n",
        "\n",
        "  x2 = 0\n",
        "  for num in arr:\n",
        "    x2 ^= num\n",
        "\n",
        "  return x1 ^ x2\n",
        "\n",
        "# Example usage\n",
        "n = 5\n",
        "arr = [1, 2, 3, 5]\n",
        "missing_element = find_missing_element(arr, n)\n",
        "print(f\"The missing element is: {missing_element}\")\n"
      ],
      "metadata": {
        "colab": {
          "base_uri": "https://localhost:8080/"
        },
        "id": "rJj9fivuqSCW",
        "outputId": "341f3f54-de89-46bb-a3fc-e7ac1269a7c6"
      },
      "execution_count": null,
      "outputs": [
        {
          "output_type": "stream",
          "name": "stdout",
          "text": [
            "The missing element is: 4\n"
          ]
        }
      ]
    },
    {
      "cell_type": "code",
      "source": [
        "#Reverse a String\n",
        "def reverse_string_slicing(text):\n",
        "  return text[::-1]\n",
        "\n",
        "def reverse_string_iteration(text):\n",
        "  reversed_text = \"\"\n",
        "  for char in text[::-1]:  # Iterate in reverse order\n",
        "    reversed_text += char\n",
        "  return reversed_text\n",
        "\n",
        "# Example usage\n",
        "text = \"hello\"\n",
        "reversed_text_slicing = reverse_string_slicing(text)\n",
        "reversed_text_iteration = reverse_string_iteration(text)\n",
        "\n",
        "print(f\"Reversed string (slicing): {reversed_text_slicing}\")\n",
        "print(f\"Reversed string (iteration): {reversed_text_iteration}\")\n"
      ],
      "metadata": {
        "colab": {
          "base_uri": "https://localhost:8080/"
        },
        "id": "4u_zkXwCspQZ",
        "outputId": "6e5c87eb-f501-4793-a062-c1df12a57399"
      },
      "execution_count": null,
      "outputs": [
        {
          "output_type": "stream",
          "name": "stdout",
          "text": [
            "Reversed string (slicing): olleh\n",
            "Reversed string (iteration): olleh\n"
          ]
        }
      ]
    },
    {
      "cell_type": "code",
      "source": [
        "#Find whether an array is subset of another array\n",
        "def is_subset(arr1, arr2):\n",
        "    arr1.sort()\n",
        "    arr2.sort()\n",
        "    i = 0\n",
        "    j = 0\n",
        "    while i < len(arr1) and j < len(arr2):\n",
        "        if arr1[i] < arr2[j]:\n",
        "            i += 1\n",
        "        elif arr1[i] == arr2[j]:\n",
        "            i += 1\n",
        "            j += 1\n",
        "        else:\n",
        "            return False\n",
        "    return j == len(arr2)\n",
        "# Example usage\n",
        "arr1 = [11, 1, 13, 21, 3, 7]\n",
        "arr2 = [11, 3, 7, 1]\n",
        "\n",
        "if is_subset(arr1, arr2):\n",
        "    print(\"Yes\")\n",
        "else:\n",
        "    print(\"No\")"
      ],
      "metadata": {
        "colab": {
          "base_uri": "https://localhost:8080/"
        },
        "id": "Ihwbk5TWgWOD",
        "outputId": "50784b8b-2eab-4944-dee8-7b1d52bc7fad"
      },
      "execution_count": null,
      "outputs": [
        {
          "output_type": "stream",
          "name": "stdout",
          "text": [
            "Yes\n"
          ]
        }
      ]
    }
  ]
}